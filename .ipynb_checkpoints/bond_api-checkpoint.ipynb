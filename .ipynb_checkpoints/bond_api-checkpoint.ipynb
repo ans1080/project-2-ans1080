{
 "cells": [
  {
   "cell_type": "markdown",
   "id": "94cbbd81-6496-4533-a37e-6b4f8e1a4804",
   "metadata": {},
   "source": [
    "###### Andy Snitgen\n",
    "###### Professor Karen Jin\n",
    "###### COMP740 - Machine Learning\n",
    "###### March 30, 2022"
   ]
  },
  {
   "cell_type": "markdown",
   "id": "6466d274-70b7-4709-ac28-002651ba9576",
   "metadata": {},
   "source": [
    "### Individual Implementation Project 2:\n",
    "#### James Bond Machine Learning Classifier"
   ]
  },
  {
   "cell_type": "code",
   "execution_count": null,
   "id": "40a45fde-75d6-4a2a-aa69-d6679ecaf271",
   "metadata": {},
   "outputs": [],
   "source": []
  }
 ],
 "metadata": {
  "kernelspec": {
   "display_name": "test_env:Python",
   "language": "python",
   "name": "conda-env-test_env-py"
  },
  "language_info": {
   "codemirror_mode": {
    "name": "ipython",
    "version": 3
   },
   "file_extension": ".py",
   "mimetype": "text/x-python",
   "name": "python",
   "nbconvert_exporter": "python",
   "pygments_lexer": "ipython3",
   "version": "3.9.10"
  }
 },
 "nbformat": 4,
 "nbformat_minor": 5
}
